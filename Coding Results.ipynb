{
 "cells": [
  {
   "cell_type": "markdown",
   "metadata": {},
   "source": [
    "# Reseach Project - Coding Results\n",
    "###  DA 401 - 01: Seminar in Data Analytics\n",
    "# ------------------------------------------------\n",
    "#### Name: Minh Nguyen\n",
    "#### Supervisor: Dr. Sarah Supp\n",
    "### <center>Regression Model in shaping the Voice Communication Control</center>"
   ]
  },
  {
   "cell_type": "markdown",
   "metadata": {},
   "source": [
    "### 1. Central Question:\n",
    "Can the logistic‬ regression model detects whehther the sound files contain the background noise or clean noise?"
   ]
  },
  {
   "cell_type": "markdown",
   "metadata": {},
   "source": [
    "### 2. Abstract:\n",
    "\n",
    "Background noise in audio recordings can degrade the sound quality in the VCS. This study investigates using logistic regression to classify audio files as containing background noise or being clean recordings. Signal to noise ratio (SNR) are extracted from the sound files. This feature are used to train a logistic regression model to predict if an audio file contains background noise or not. The performance of the logistic regression model is evaluated on a test set of audio recordings with and without background noise. The results demonstrate the feasibility of using logistic regression for detecting background noise in audio files based on audio features.\n",
    "    "
   ]
  },
  {
   "cell_type": "markdown",
   "metadata": {},
   "source": [
    "### 3. Hypothesis:\n",
    "The hypothesis is that by extracting SNR and training a logistic regression, the model will be able to distinguish between audio with background noise and clean audio without noise. The audio feature is expected to differ systematically between noisy and clean files in ways that the logistic regression model can learn for classification. This hypothesis can be tested by training the model on a dataset of audio files labeled as containing noise or being clean, then evaluating its performance on a held-out test set. The accuracy of the model in detecting background noise in the test set would determine whether the hypothesis is supported."
   ]
  },
  {
   "cell_type": "markdown",
   "metadata": {},
   "source": [
    "## 4. Data\n",
    "###  Noise files:                               \n",
    "#### - HF_ANALOG                             \n",
    "#### - VHF_ANALOG                   \n",
    "                   \n",
    "### Clean files:\n",
    "#### - VHF_VOIP\n",
    "#### - VOIP telephone\n"
   ]
  },
  {
   "cell_type": "markdown",
   "metadata": {},
   "source": [
    "### Import required libraries"
   ]
  },
  {
   "cell_type": "code",
   "execution_count": null,
   "metadata": {},
   "outputs": [],
   "source": [
    "import librosa\n",
    "import soundfile as sf\n",
    "import librosa.display\n",
    "import matplotlib.pyplot as plt\n",
    "import numpy as np\n",
    "import pandas as pd\n",
    "from sklearn.linear_model import LogisticRegression\n",
    "from sklearn.model_selection import train_test_split\n",
    "from sklearn.metrics import accuracy_score, classification_report\n",
    "import scipy.io.wavfile as wav\n",
    "%pylab inline"
   ]
  },
  {
   "cell_type": "markdown",
   "metadata": {},
   "source": [
    "### Load and trim wav files"
   ]
  },
  {
   "cell_type": "code",
   "execution_count": 1,
   "metadata": {},
   "outputs": [
    {
     "ename": "NameError",
     "evalue": "name 'librosa' is not defined",
     "output_type": "error",
     "traceback": [
      "\u001b[0;31m---------------------------------------------------------------------------\u001b[0m",
      "\u001b[0;31mNameError\u001b[0m                                 Traceback (most recent call last)",
      "\u001b[0;32m<ipython-input-1-6f99c2ff5fdc>\u001b[0m in \u001b[0;36m<module>\u001b[0;34m\u001b[0m\n\u001b[1;32m     31\u001b[0m \u001b[0;34m\u001b[0m\u001b[0m\n\u001b[1;32m     32\u001b[0m \u001b[0;32mfor\u001b[0m \u001b[0mfile\u001b[0m \u001b[0;32min\u001b[0m \u001b[0mfile_list\u001b[0m\u001b[0;34m:\u001b[0m\u001b[0;34m\u001b[0m\u001b[0;34m\u001b[0m\u001b[0m\n\u001b[0;32m---> 33\u001b[0;31m     \u001b[0mcut_to_duration\u001b[0m\u001b[0;34m(\u001b[0m\u001b[0mfile\u001b[0m\u001b[0;34m,\u001b[0m\u001b[0mfile\u001b[0m\u001b[0;34m)\u001b[0m\u001b[0;34m\u001b[0m\u001b[0;34m\u001b[0m\u001b[0m\n\u001b[0m",
      "\u001b[0;32m<ipython-input-1-6f99c2ff5fdc>\u001b[0m in \u001b[0;36mcut_to_duration\u001b[0;34m(audio_file_path, output_file_path, duration_seconds)\u001b[0m\n\u001b[1;32m     18\u001b[0m \u001b[0;34m\u001b[0m\u001b[0m\n\u001b[1;32m     19\u001b[0m     \u001b[0;31m# Load the audio file\u001b[0m\u001b[0;34m\u001b[0m\u001b[0;34m\u001b[0m\u001b[0;34m\u001b[0m\u001b[0m\n\u001b[0;32m---> 20\u001b[0;31m     \u001b[0my\u001b[0m\u001b[0;34m,\u001b[0m \u001b[0msr\u001b[0m \u001b[0;34m=\u001b[0m \u001b[0mlibrosa\u001b[0m\u001b[0;34m.\u001b[0m\u001b[0mload\u001b[0m\u001b[0;34m(\u001b[0m\u001b[0maudio_file_path\u001b[0m\u001b[0;34m,\u001b[0m \u001b[0msr\u001b[0m\u001b[0;34m=\u001b[0m\u001b[0;32mNone\u001b[0m\u001b[0;34m)\u001b[0m\u001b[0;34m\u001b[0m\u001b[0;34m\u001b[0m\u001b[0m\n\u001b[0m\u001b[1;32m     21\u001b[0m \u001b[0;34m\u001b[0m\u001b[0m\n\u001b[1;32m     22\u001b[0m     \u001b[0;31m# Calculate the desired length in samples\u001b[0m\u001b[0;34m\u001b[0m\u001b[0;34m\u001b[0m\u001b[0;34m\u001b[0m\u001b[0m\n",
      "\u001b[0;31mNameError\u001b[0m: name 'librosa' is not defined"
     ]
    }
   ],
   "source": [
    "file_list=[\"/Users/dangminh0912/Desktop/Year 4 (Sem 1)/DA 401/Dataset/HF_ANALOG.wav\",\n",
    "           \"/Users/dangminh0912/Desktop/Year 4 (Sem 1)/DA 401/Dataset/VHF_ANALOG.wav\",\n",
    "           \"/Users/dangminh0912/Desktop/Year 4 (Sem 1)/DA 401/Dataset/VHF_VOIP.wav\",\n",
    "           \"/Users/dangminh0912/Desktop/Year 4 (Sem 1)/DA 401/Dataset/VOIP telephone.wav\"]\n",
    "\n",
    "def cut_to_duration(audio_file_path, output_file_path, duration_seconds=10):\n",
    "    \"\"\"\n",
    "    Cuts the audio file to the specified duration (in seconds).\n",
    "    \n",
    "    Parameters:\n",
    "    - audio_file_path (str): Path to the input audio file.\n",
    "    - output_file_path (str): Path to save the truncated audio file.\n",
    "    - duration_seconds (float, optional): Desired duration in seconds. Default is 10 seconds.\n",
    "    \n",
    "    Returns:\n",
    "    None\n",
    "    \"\"\"\n",
    "    \n",
    "    # Load the audio file\n",
    "    y, sr = librosa.load(audio_file_path, sr=None)\n",
    "    \n",
    "    # Calculate the desired length in samples\n",
    "    desired_length = sr * duration_seconds\n",
    "    \n",
    "    # If the audio is longer than the desired length, truncate it\n",
    "    if len(y) > desired_length:\n",
    "        y = y[:desired_length]\n",
    "    \n",
    "    # Save the truncated or original audio to the output path\n",
    "    sf.write(output_file_path, y, sr)\n",
    "\n",
    "for file in file_list:\n",
    "    cut_to_duration(file,file)"
   ]
  },
  {
   "cell_type": "markdown",
   "metadata": {},
   "source": [
    "## Noise files and Clean files"
   ]
  },
  {
   "cell_type": "code",
   "execution_count": null,
   "metadata": {},
   "outputs": [],
   "source": [
    "noise_files = ['/Users/dangminh0912/Desktop/Year 4 (Sem 1)/DA 401/Dataset/HF_ANALOG.wav', \n",
    "               '/Users/dangminh0912/Desktop/Year 4 (Sem 1)/DA 401/Dataset/VHF_ANALOG.wav']\n",
    "clean_files = ['/Users/dangminh0912/Desktop/Year 4 (Sem 1)/DA 401/Dataset/VHF_VOIP.wav',\n",
    "               '/Users/dangminh0912/Desktop/Year 4 (Sem 1)/DA 401/Dataset/VOIP telephone.wav']"
   ]
  },
  {
   "cell_type": "markdown",
   "metadata": {},
   "source": [
    "## Calculate signal to noise ratio (snr)"
   ]
  },
  {
   "cell_type": "code",
   "execution_count": null,
   "metadata": {},
   "outputs": [],
   "source": [
    "def calculate_snr(signal, noise_floor_percentile=10):\n",
    "    # Estimate noise as the part of the signal that's close to zero\n",
    "    noise_floor = np.percentile(np.abs(signal), noise_floor_percentile)\n",
    "    noise_idx = np.abs(signal) < noise_floor\n",
    "    \n",
    "    # Calculate signal and noise power\n",
    "    signal_power = np.mean(signal**2)\n",
    "    noise_power = np.mean(signal[noise_idx]**2)\n",
    "    \n",
    "    # Handle case of zero noise power\n",
    "    if noise_power == 0:\n",
    "        return np.inf # Infinite SNR\n",
    "    else:\n",
    "    # Compute SNR\n",
    "        snr = signal_power / noise_power\n",
    "        return 10 * np.log10(snr)  # Convert to dB"
   ]
  },
  {
   "cell_type": "markdown",
   "metadata": {},
   "source": [
    "## Calculate signal to noise ratio (snr) over time"
   ]
  },
  {
   "cell_type": "code",
   "execution_count": null,
   "metadata": {},
   "outputs": [],
   "source": [
    "def calculate_snr_over_time(file_path,num,frame_length=1024,overlap=512):\n",
    "    # Read the WAV file\n",
    "    sample_rate, data = wav.read(file_path)\n",
    "    \n",
    "    # Mono-ize if stereo\n",
    "    if len(data.shape) > 1:\n",
    "        data = data[:, 0]\n",
    "        \n",
    "    # Normalize the signal\n",
    "    data = data / np.max(np.abs(data))\n",
    "    \n",
    "    # Prepare windowing function\n",
    "    window = np.hanning(frame_length)\n",
    "    \n",
    "    # Calculate the number of frames\n",
    "    step_size = frame_length - overlap\n",
    "    num_frames = 1 + int((len(data) - frame_length) / step_size)\n",
    "    \n",
    "    # Initialize array to hold SNR values\n",
    "    snr_values = []\n",
    "    for i in range(num_frames):\n",
    "        start = i * step_size\n",
    "        stop = start + frame_length\n",
    "        frame = data[start:stop] * window\n",
    "        value = calculate_snr(frame)\n",
    "        if num == 0:\n",
    "            snr_values.append(value)\n",
    "        elif num == 1:\n",
    "            if value >= 68:\n",
    "                snr_values.append(value) \n",
    "            else: \n",
    "                snr_values.append(np.nan)\n",
    "        \n",
    " \n",
    "    # Time vector for plotting\n",
    "    time_vector = (np.arange(num_frames) * step_size + frame_length / 2) / sample_rate\n",
    "    \n",
    "    return snr_values, time_vector"
   ]
  },
  {
   "cell_type": "markdown",
   "metadata": {},
   "source": [
    "## Visualize the SNR in two noise files and two clean files"
   ]
  },
  {
   "cell_type": "code",
   "execution_count": null,
   "metadata": {},
   "outputs": [],
   "source": [
    "for file in noise_files:\n",
    "    snr_values, time_vector = calculate_snr_over_time(file,0)\n",
    "    plt.figure(figsize=(14, 5))\n",
    "    plt.plot(time_vector, snr_values)\n",
    "    plt.title(\"Noise file - SNR Over Time\")\n",
    "    plt.xlabel(\"Time (seconds)\")\n",
    "    plt.ylabel(\"SNR (dB)\")\n",
    "    plt.grid(True)\n",
    "    plt.show()\n",
    "    \n",
    "\n",
    "for file in clean_files:\n",
    "    snr_values, time_vector = calculate_snr_over_time(file,0)\n",
    "    plt.figure(figsize=(14, 5))\n",
    "    plt.plot(time_vector, snr_values)\n",
    "    plt.title(\"Clean file - SNR Over Time\")\n",
    "    plt.xlabel(\"Time (seconds)\")\n",
    "    plt.ylabel(\"SNR (dB)\")\n",
    "    plt.grid(True)\n",
    "    plt.show()"
   ]
  },
  {
   "cell_type": "markdown",
   "metadata": {},
   "source": [
    "## Print the dataframe of snr over time (dB) + Label the snr based on clean files and noise files"
   ]
  },
  {
   "cell_type": "code",
   "execution_count": null,
   "metadata": {},
   "outputs": [],
   "source": [
    "# Dataframe of snr over time (dB) + Label the snr based on clean files and noise files\n",
    "def print_dataframe(i,set_type):\n",
    "    # Variables\n",
    "    # Training set from HF_ANALOG and VHF_VOIP.wav\n",
    "    X_train = []  #  Independent variable (snr) \n",
    "    Y_train = []  #  Dependent variable (0: clean file , 1: noise file)\n",
    "\n",
    "    # Testing set from VHF_ANALOG and VOIP telephone\n",
    "    X_test = []   #  Independent variable (snr)\n",
    "    Y_test = []   #  Dependent variable (0: clean file , 1: noise file)\n",
    "\n",
    "    HF_ANALOG_snr = []\n",
    "    HF_ANALOG = []\n",
    "\n",
    "    VHF_ANALOG_snr = []\n",
    "    VHF_ANALOG = []\n",
    "\n",
    "    VHF_VOIP_snr = []\n",
    "    VHF_VOIP = []\n",
    "\n",
    "    VOIP_telephone_snr = []\n",
    "    VOIP_telephone = []\n",
    "    \n",
    "   \n",
    "    for file in noise_files:\n",
    "        snr_values, time_vector = calculate_snr_over_time(file,0)\n",
    "        for time,snr in zip(time_vector, snr_values):\n",
    "            if np.logical_not(np.isnan(snr)) and np.logical_not(np.isinf(snr)) and snr >= i:\n",
    "                if file == '/Users/dangminh0912/Desktop/Year 4 (Sem 1)/DA 401/Dataset/HF_ANALOG.wav':\n",
    "                    HF_ANALOG_snr.append(time)\n",
    "                    HF_ANALOG_snr.append(snr)\n",
    "                    X_train.append(snr)\n",
    "                    Y_train.append(1)\n",
    "                elif file == '/Users/dangminh0912/Desktop/Year 4 (Sem 1)/DA 401/Dataset/VHF_ANALOG.wav':\n",
    "                    VHF_ANALOG_snr.append(time)\n",
    "                    VHF_ANALOG_snr.append(snr)\n",
    "                    X_test.append(snr)\n",
    "                    Y_test.append(1)\n",
    "                HF_ANALOG.append(HF_ANALOG_snr)\n",
    "                VHF_ANALOG.append(VHF_ANALOG_snr)\n",
    "                HF_ANALOG_snr = []\n",
    "                VHF_ANALOG_snr = []     \n",
    "\n",
    "\n",
    "    for file in clean_files:\n",
    "        snr_values, time_vector = calculate_snr_over_time(file,0)\n",
    "        for time,snr in zip(time_vector, snr_values):\n",
    "            if np.logical_not(np.isnan(snr)) and np.logical_not(np.isinf(snr)) and snr >= i:\n",
    "                if file == '/Users/dangminh0912/Desktop/Year 4 (Sem 1)/DA 401/Dataset/VHF_VOIP.wav':\n",
    "                    VHF_VOIP_snr.append(time)\n",
    "                    VHF_VOIP_snr.append(snr)\n",
    "                    X_train.append(snr)\n",
    "                    Y_train.append(0)\n",
    "                elif file == '/Users/dangminh0912/Desktop/Year 4 (Sem 1)/DA 401/Dataset/VOIP telephone.wav':\n",
    "                    VOIP_telephone_snr.append(time)\n",
    "                    VOIP_telephone_snr.append(snr)\n",
    "                    X_test.append(snr)\n",
    "                    Y_test.append(0)\n",
    "                VHF_VOIP.append(VHF_VOIP_snr)\n",
    "                VOIP_telephone.append(VOIP_telephone_snr)\n",
    "                VHF_VOIP_snr = []\n",
    "                VOIP_telephone_snr = []\n",
    "    \n",
    "    \n",
    "    if set_type == 0:  # Training set\n",
    "        return X_train, Y_train\n",
    "    elif set_type == 1:  # Testing set\n",
    "        return X_test, Y_test\n",
    "    elif set_type == \"HF_ANALOG\":\n",
    "        return pd.DataFrame(HF_ANALOG,columns=['Time','SNR'])\n",
    "    elif set_type == \"VHF_ANALOG\":\n",
    "        return pd.DataFrame(VHF_ANALOG,columns=['Time','SNR'])\n",
    "    elif set_type == \"VHF_VOIP\":\n",
    "        return pd.DataFrame(VHF_VOIP,columns=['Time','SNR'])\n",
    "    elif set_type == \"VOIP_telephone\":\n",
    "        return pd.DataFrame(VOIP_telephone,columns=['Time','SNR'])"
   ]
  },
  {
   "cell_type": "code",
   "execution_count": null,
   "metadata": {},
   "outputs": [],
   "source": [
    "# Merge the dataframe\n",
    "file_df = pd.merge(print_dataframe(1,\"HF_ANALOG\"), print_dataframe(1,\"VHF_ANALOG\"), left_index=True, right_index=True)\n",
    "file_df = pd.merge(file_df, print_dataframe(1,\"VHF_VOIP\"), left_index=True, right_index=True)\n",
    "file_df = pd.merge(file_df, print_dataframe(1,\"VOIP_telephone\"),left_index=True, right_index=True)\n",
    "\n",
    "# Print the dataframe\n",
    "file_df.columns = ['Time_HF_Analog', 'SNR_HF_Analog', \n",
    "                   'Time_VHF_Analog', 'SNR_VHF_Analog',\n",
    "                   'Time_VHF_VOIP', 'SNR_VHF_VOIP',\n",
    "                   'Time_VOIP_telephone', 'SNR_VOIP_telephone']\n",
    "file_df"
   ]
  },
  {
   "cell_type": "markdown",
   "metadata": {},
   "source": [
    "# Logistical Regression Model"
   ]
  },
  {
   "cell_type": "code",
   "execution_count": null,
   "metadata": {},
   "outputs": [],
   "source": [
    "# Reshape the array of X and Y\n",
    "def np_arr(X,Y):\n",
    "    X = np.array(X)\n",
    "    X = X.reshape(-1, 1)\n",
    "    \n",
    "    Y = np.array(Y)\n",
    "    Y = Y.reshape(-1, 1)\n",
    "    return X,Y"
   ]
  },
  {
   "cell_type": "markdown",
   "metadata": {},
   "source": [
    "### Train the logistic regression model on training set"
   ]
  },
  {
   "cell_type": "code",
   "execution_count": null,
   "metadata": {},
   "outputs": [],
   "source": [
    "# Training on 70 different snr to evaluate which model has the best performance\n",
    "train_list = []\n",
    "model_df = pd.DataFrame()\n",
    "model = LogisticRegression()\n",
    "for i in range(1,71):\n",
    "    i_list = []\n",
    "    \n",
    "    X_train,Y_train = print_dataframe(i,0)                                                                                          \n",
    "    X_train,Y_train = np_arr(X_train,Y_train)\n",
    "    model.fit(X_train, Y_train)\n",
    "    \n",
    "    i_list.append(i)\n",
    "    i_list.append(model.score(X_train,Y_train))\n",
    "    \n",
    "    train_list.append(i_list)\n",
    "    model.fit(X_train, Y_train)\n",
    "model_df = pd.DataFrame(train_list, columns=['I','SNR'])\n",
    "model_df  "
   ]
  },
  {
   "cell_type": "code",
   "execution_count": null,
   "metadata": {},
   "outputs": [],
   "source": [
    "max_value_index = df['SNR'].idxmax()\n",
    "print(\"Heighest model score\",\"\\n\",\"SNR >=\",df.loc[max_value_index,'I'],' ',\"Score:\",df['SNR'].max())"
   ]
  },
  {
   "cell_type": "markdown",
   "metadata": {},
   "source": [
    "### Plot SNR over time for snr >= 68"
   ]
  },
  {
   "cell_type": "code",
   "execution_count": null,
   "metadata": {},
   "outputs": [],
   "source": [
    "for file in noise_files:\n",
    "    snr_values, time_vector = calculate_snr_over_time(file,1)\n",
    "    plt.figure(figsize=(14, 5))\n",
    "    plt.plot(time_vector, snr_values)\n",
    "    plt.title(\"Signal-to-Noise Ratio Over Time\")\n",
    "    plt.xlabel(\"Time (seconds)\")\n",
    "    plt.ylabel(\"SNR (dB)\")\n",
    "    plt.grid(True)\n",
    "    plt.show()\n",
    "    \n",
    "\n",
    "for file in clean_files:\n",
    "    snr_values, time_vector = calculate_snr_over_time(file,1)\n",
    "    plt.figure(figsize=(14, 5))\n",
    "    plt.plot(time_vector, snr_values)\n",
    "    plt.title(\"Signal-to-Noise Ratio Over Time\")\n",
    "    plt.xlabel(\"Time (seconds)\")\n",
    "    plt.ylabel(\"SNR (dB)\")\n",
    "    plt.grid(True)\n",
    "    plt.show()\n"
   ]
  },
  {
   "cell_type": "markdown",
   "metadata": {},
   "source": [
    "### Test the logistic regression model on testing set"
   ]
  },
  {
   "cell_type": "code",
   "execution_count": null,
   "metadata": {},
   "outputs": [],
   "source": [
    "# Testing set that contains any snr >= 68\n",
    "test_list = []\n",
    "model_df = pd.DataFrame()\n",
    "model = LogisticRegression()\n",
    "\n",
    "X_test,Y_test = print_dataframe(68,1)                                                                                          \n",
    "X_test,Y_test = np_arr(X_test,Y_test)\n",
    "model.fit(X_test, Y_test)\n",
    "print(\"Model score is: \",model.score(X_test,Y_test)) "
   ]
  },
  {
   "cell_type": "markdown",
   "metadata": {},
   "source": [
    "## Sources"
   ]
  },
  {
   "cell_type": "markdown",
   "metadata": {},
   "source": [
    "https://en.wikipedia.org/wiki/Signal-to-noise_ratio\n",
    "\n",
    "https://emastered.com/blog/signal-to-noise-ratio\n",
    "\n",
    "https://play.fallows.ca/wp/radio/ham-radio/signal-noise-ratio-essence-radio/\n",
    "\n",
    "https://resources.pcb.cadence.com/blog/2020-what-is-signal-to-noise-ratio-and-how-to-calculate-it"
   ]
  },
  {
   "cell_type": "code",
   "execution_count": null,
   "metadata": {},
   "outputs": [],
   "source": []
  }
 ],
 "metadata": {
  "kernelspec": {
   "display_name": "Python 3",
   "language": "python",
   "name": "python3"
  },
  "language_info": {
   "codemirror_mode": {
    "name": "ipython",
    "version": 3
   },
   "file_extension": ".py",
   "mimetype": "text/x-python",
   "name": "python",
   "nbconvert_exporter": "python",
   "pygments_lexer": "ipython3",
   "version": "3.8.8"
  }
 },
 "nbformat": 4,
 "nbformat_minor": 2
}
